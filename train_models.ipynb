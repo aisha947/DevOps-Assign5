{
 "cells": [
  {
   "cell_type": "code",
   "execution_count": 1,
   "id": "b4e44d0b",
   "metadata": {},
   "outputs": [
    {
     "name": "stdout",
     "output_type": "stream",
     "text": [
      "Models trained and saved successfully.\n"
     ]
    }
   ],
   "source": [
    "import pandas as pd\n",
    "from sklearn.model_selection import train_test_split\n",
    "from sklearn.linear_model import LinearRegression\n",
    "import joblib\n",
    "\n",
    "# Load the dataset\n",
    "dataset_path = \"data/year_lahore_weather_data.csv\"\n",
    "df = pd.read_csv(dataset_path)\n",
    "\n",
    "# Extract relevant features\n",
    "features = df[['Min_Temperature', 'Max_Temperature']]\n",
    "\n",
    "# Target variables\n",
    "min_temp_target = df['Min_Temperature']\n",
    "max_temp_target = df['Max_Temperature']\n",
    "\n",
    "# Split the data\n",
    "X_train, X_test, y_min_train, y_min_test, y_max_train, y_max_test = train_test_split(\n",
    "    features, min_temp_target, max_temp_target, test_size=0.2, random_state=42\n",
    ")\n",
    "\n",
    "# Train models\n",
    "min_temp_model = LinearRegression()\n",
    "min_temp_model.fit(X_train, y_min_train)\n",
    "\n",
    "max_temp_model = LinearRegression()\n",
    "max_temp_model.fit(X_train, y_max_train)\n",
    "\n",
    "# Save models\n",
    "joblib.dump(min_temp_model, 'models/min_t_model.pkl')\n",
    "joblib.dump(max_temp_model, 'models/max_t_model.pkl')\n",
    "\n",
    "print(\"Models trained and saved successfully.\")\n"
   ]
  }
 ],
 "metadata": {
  "kernelspec": {
   "display_name": "Python 3 (ipykernel)",
   "language": "python",
   "name": "python3"
  },
  "language_info": {
   "codemirror_mode": {
    "name": "ipython",
    "version": 3
   },
   "file_extension": ".py",
   "mimetype": "text/x-python",
   "name": "python",
   "nbconvert_exporter": "python",
   "pygments_lexer": "ipython3",
   "version": "3.11.5"
  }
 },
 "nbformat": 4,
 "nbformat_minor": 5
}
