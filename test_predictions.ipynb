{
 "cells": [
  {
   "cell_type": "code",
   "execution_count": 1,
   "id": "87190e14",
   "metadata": {},
   "outputs": [
    {
     "name": "stdout",
     "output_type": "stream",
     "text": [
      "Min Temperature Predictions: [21. 30.]\n",
      "Max Temperature Predictions: [24. 31.]\n"
     ]
    }
   ],
   "source": [
    "import pandas as pd\n",
    "import joblib\n",
    "\n",
    "# Load the test data (you can modify this based on your actual testing needs)\n",
    "test_data = pd.DataFrame({\n",
    "    'Min_Temperature': [21, 30],\n",
    "    'Max_Temperature': [24, 31]\n",
    "})\n",
    "\n",
    "# Load the trained models\n",
    "min_temp_model = joblib.load('models/min_t_model.pkl')\n",
    "max_temp_model = joblib.load('models/max_t_model.pkl')\n",
    "\n",
    "# Make predictions\n",
    "min_temp_predictions = min_temp_model.predict(test_data)\n",
    "max_temp_predictions = max_temp_model.predict(test_data)\n",
    "\n",
    "print(\"Min Temperature Predictions:\", min_temp_predictions)\n",
    "print(\"Max Temperature Predictions:\", max_temp_predictions)\n"
   ]
  }
 ],
 "metadata": {
  "kernelspec": {
   "display_name": "Python 3 (ipykernel)",
   "language": "python",
   "name": "python3"
  },
  "language_info": {
   "codemirror_mode": {
    "name": "ipython",
    "version": 3
   },
   "file_extension": ".py",
   "mimetype": "text/x-python",
   "name": "python",
   "nbconvert_exporter": "python",
   "pygments_lexer": "ipython3",
   "version": "3.11.5"
  }
 },
 "nbformat": 4,
 "nbformat_minor": 5
}
